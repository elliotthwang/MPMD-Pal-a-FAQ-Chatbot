{
 "cells": [
  {
   "cell_type": "code",
   "execution_count": 14,
   "metadata": {},
   "outputs": [],
   "source": [
    "from rasa_nlu.training_data import load_data\n",
    "\n",
    "# This re-uses the Rasa NLU converters code to turn a JSON Rasa NLU training\n",
    "# file into MD format and save it\n",
    "\n",
    "# Assumes you have Rasa NLU installed :-)\n",
    "\n",
    "# If you want other options, look at the NLU code to work out how to handle them\n",
    "\n",
    "# USE AT YOUR OWN RISK\n",
    "\n",
    "input_training_file = '/Users/c.cardenasvelasquez/OneDrive/Added_Business_Value_of_implementing_Chatbots/Proof_of_concept/MPMD_Pal_V4/dsl_generator/Output/training_dataset_1560885472.json'\n",
    "\n",
    "# *******************************************************\n",
    "# TAKE CARE: output_md_file is overwritten automatically\n",
    "# *******************************************************\n",
    "\n",
    "output_md_file = '/Users/c.cardenasvelasquez/OneDrive/Added_Business_Value_of_implementing_Chatbots/Proof_of_concept/MPMD_Pal_V4/dsl_generator/Output/training.md'\n",
    "\n",
    "with open(output_md_file,'w') as f:\n",
    "    f.write(load_data(input_training_file).as_markdown())"
   ]
  },
  {
   "cell_type": "code",
   "execution_count": null,
   "metadata": {},
   "outputs": [],
   "source": []
  }
 ],
 "metadata": {
  "kernelspec": {
   "display_name": "Python 3",
   "language": "python",
   "name": "python3"
  },
  "language_info": {
   "codemirror_mode": {
    "name": "ipython",
    "version": 3
   },
   "file_extension": ".py",
   "mimetype": "text/x-python",
   "name": "python",
   "nbconvert_exporter": "python",
   "pygments_lexer": "ipython3",
   "version": "3.6.8"
  }
 },
 "nbformat": 4,
 "nbformat_minor": 2
}
